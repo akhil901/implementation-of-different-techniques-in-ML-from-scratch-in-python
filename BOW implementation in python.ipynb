{
 "cells": [
  {
   "cell_type": "markdown",
   "metadata": {},
   "source": [
    "# BagOFWords implementation from scratch in python"
   ]
  },
  {
   "cell_type": "code",
   "execution_count": 1,
   "metadata": {},
   "outputs": [],
   "source": [
    "import time\n",
    "from collections import Counter\n",
    "start1=time.time()\n",
    "def fit(text):\n",
    "    total_features=[]\n",
    "    for i in text:\n",
    "        total_features+=(i.split()) #total number of words in the sentence including stop words \n",
    "    tokenize=[]\n",
    "    for i in text:\n",
    "        tokenize.append(i.split()) #each sentance is tokenized \n",
    "    count_vec=[]  \n",
    "    for i in tokenize:\n",
    "        count_vec.append(Counter(i)) #number of times each word occuring in the sentance\n",
    "    features=list(set(total_features)) #total number of unique features\n",
    "#     features=list(features)\n",
    "    features1=dict.fromkeys(features,0)#initalizing a dict with 0 for every feature\n",
    "    return features1,count_vec\n"
   ]
  },
  {
   "cell_type": "code",
   "execution_count": 2,
   "metadata": {},
   "outputs": [],
   "source": [
    "def transform(count_vec,features1):\n",
    "    for i in count_vec: #taking each sentence with count \n",
    "        c = dict(i)\n",
    "        for key in features1.keys(): # taking total features\n",
    "            if key  in c.keys(): #checking if word that present in the current sentance or not \n",
    "                if not isinstance(features1[key], list): #if key is not list making it list so that we can append values\n",
    "                    features1[key]=[features1[key]]\n",
    "                val = c[key]\n",
    "                features1[key].append(val) #if present updating the values\n",
    "            else:\n",
    "                if not isinstance(features1[key], list):\n",
    "                    features1[key]=[features1[key]]\n",
    "                features1[key].append(0) #if word not present in the current sentance append its values as 0\n",
    "    return features1"
   ]
  },
  {
   "cell_type": "code",
   "execution_count": 3,
   "metadata": {},
   "outputs": [
    {
     "name": "stdout",
     "output_type": "stream",
     "text": [
      "the total number of features are: {'the': 0, 'try': 0, 'i': 0, 'own': 0, 'trying': 0, 'this': 0, 'text': 0, 'you': 0, 'random': 0, 'is': 0, 'your': 0, 'sentences': 0, 'difffernt': 0, 'am': 0, 'can': 0}\n"
     ]
    },
    {
     "data": {
      "text/plain": [
       "[Counter({'this': 1, 'is': 1, 'the': 1, 'random': 1, 'text': 1}),\n",
       " Counter({'i': 1, 'am': 1, 'trying': 1, 'difffernt': 1, 'sentences': 1}),\n",
       " Counter({'you': 1, 'can': 1, 'try': 1, 'your': 1, 'own': 1, 'sentences': 1})]"
      ]
     },
     "execution_count": 3,
     "metadata": {},
     "output_type": "execute_result"
    }
   ],
   "source": [
    "# text = [\"The series focuses on Asta, a young orphan who was raised from birth after being abandoned at the doorstep of an orphanage in Hage village along with his fellow orphan, Yuno. While everyone is born with the ability to utilize Mana in the form of Magical Power (魔力, Maryoku), Asta is the only exception. He tries to gain magical power through physical training. Conversely, Yuno was born as a prodigy with immense magical power and the talent to control wind magic. Motivated by a desire to become the next Wizard King, an authority figure second to the king of Clover Kingdom, the two youths developed a friendly rivalry. Yuno obtains a legendary four-leaf grimoire held by the kingdom's first Wizard King. Asta, despite his lack of magic, obtained the mysterious five-leaf grimoire (which cannot be clearly identified by others since it is worn out), which contains mysterious elf swords and rare anti-magic. Afterward, he and Yuno each join a Magic Knight squad as the first step to fulfill their ambitions. Through the story Asta embarks on various adventures, as they make a name for himself throughout the Clover Kingdom. Both characters strive to one day hold the title of Wizard King.\"]\n",
    "text =[\"this is the random text\",\n",
    "       \"i am trying difffernt sentences\",\n",
    "       \"you can try your own sentences\"]\n",
    "for i in range(len(text)):\n",
    "    text[i]=text[i].lower()\n",
    "features1,count_vec = fit(text)\n",
    "print(\"the total number of features are:\",features1)\n",
    "count_vec"
   ]
  },
  {
   "cell_type": "code",
   "execution_count": 4,
   "metadata": {},
   "outputs": [],
   "source": [
    "bow = transform(count_vec,features1)"
   ]
  },
  {
   "cell_type": "code",
   "execution_count": 5,
   "metadata": {},
   "outputs": [],
   "source": [
    "import pandas as pd\n",
    "df = pd.DataFrame(bow)\n",
    "df =df.loc[1:].sort_index( axis = 1) "
   ]
  },
  {
   "cell_type": "code",
   "execution_count": 6,
   "metadata": {},
   "outputs": [
    {
     "data": {
      "text/html": [
       "<div>\n",
       "<style scoped>\n",
       "    .dataframe tbody tr th:only-of-type {\n",
       "        vertical-align: middle;\n",
       "    }\n",
       "\n",
       "    .dataframe tbody tr th {\n",
       "        vertical-align: top;\n",
       "    }\n",
       "\n",
       "    .dataframe thead th {\n",
       "        text-align: right;\n",
       "    }\n",
       "</style>\n",
       "<table border=\"1\" class=\"dataframe\">\n",
       "  <thead>\n",
       "    <tr style=\"text-align: right;\">\n",
       "      <th></th>\n",
       "      <th>am</th>\n",
       "      <th>can</th>\n",
       "      <th>difffernt</th>\n",
       "      <th>i</th>\n",
       "      <th>is</th>\n",
       "      <th>own</th>\n",
       "      <th>random</th>\n",
       "      <th>sentences</th>\n",
       "      <th>text</th>\n",
       "      <th>the</th>\n",
       "      <th>this</th>\n",
       "      <th>try</th>\n",
       "      <th>trying</th>\n",
       "      <th>you</th>\n",
       "      <th>your</th>\n",
       "    </tr>\n",
       "  </thead>\n",
       "  <tbody>\n",
       "    <tr>\n",
       "      <td>1</td>\n",
       "      <td>0</td>\n",
       "      <td>0</td>\n",
       "      <td>0</td>\n",
       "      <td>0</td>\n",
       "      <td>1</td>\n",
       "      <td>0</td>\n",
       "      <td>1</td>\n",
       "      <td>0</td>\n",
       "      <td>1</td>\n",
       "      <td>1</td>\n",
       "      <td>1</td>\n",
       "      <td>0</td>\n",
       "      <td>0</td>\n",
       "      <td>0</td>\n",
       "      <td>0</td>\n",
       "    </tr>\n",
       "    <tr>\n",
       "      <td>2</td>\n",
       "      <td>1</td>\n",
       "      <td>0</td>\n",
       "      <td>1</td>\n",
       "      <td>1</td>\n",
       "      <td>0</td>\n",
       "      <td>0</td>\n",
       "      <td>0</td>\n",
       "      <td>1</td>\n",
       "      <td>0</td>\n",
       "      <td>0</td>\n",
       "      <td>0</td>\n",
       "      <td>0</td>\n",
       "      <td>1</td>\n",
       "      <td>0</td>\n",
       "      <td>0</td>\n",
       "    </tr>\n",
       "    <tr>\n",
       "      <td>3</td>\n",
       "      <td>0</td>\n",
       "      <td>1</td>\n",
       "      <td>0</td>\n",
       "      <td>0</td>\n",
       "      <td>0</td>\n",
       "      <td>1</td>\n",
       "      <td>0</td>\n",
       "      <td>1</td>\n",
       "      <td>0</td>\n",
       "      <td>0</td>\n",
       "      <td>0</td>\n",
       "      <td>1</td>\n",
       "      <td>0</td>\n",
       "      <td>1</td>\n",
       "      <td>1</td>\n",
       "    </tr>\n",
       "  </tbody>\n",
       "</table>\n",
       "</div>"
      ],
      "text/plain": [
       "   am  can  difffernt  i  is  own  random  sentences  text  the  this  try  \\\n",
       "1   0    0          0  0   1    0       1          0     1    1     1    0   \n",
       "2   1    0          1  1   0    0       0          1     0    0     0    0   \n",
       "3   0    1          0  0   0    1       0          1     0    0     0    1   \n",
       "\n",
       "   trying  you  your  \n",
       "1       0    0     0  \n",
       "2       1    0     0  \n",
       "3       0    1     1  "
      ]
     },
     "execution_count": 6,
     "metadata": {},
     "output_type": "execute_result"
    }
   ],
   "source": [
    "df"
   ]
  },
  {
   "cell_type": "code",
   "execution_count": 7,
   "metadata": {},
   "outputs": [
    {
     "name": "stdout",
     "output_type": "stream",
     "text": [
      "the time for bow is : 3.3251142501831055\n"
     ]
    }
   ],
   "source": [
    "end1=time.time()\n",
    "print(\"the time for bow is :\" ,(end1-start1))"
   ]
  },
  {
   "cell_type": "markdown",
   "metadata": {},
   "source": [
    "# Sklearns implementation of BagOFwords"
   ]
  },
  {
   "cell_type": "code",
   "execution_count": null,
   "metadata": {},
   "outputs": [],
   "source": [
    "start2 = time.time()"
   ]
  },
  {
   "cell_type": "code",
   "execution_count": 9,
   "metadata": {},
   "outputs": [],
   "source": [
    "from sklearn.feature_extraction.text import CountVectorizer\n",
    "vectorizer = CountVectorizer()\n",
    "X = vectorizer.fit_transform(text)"
   ]
  },
  {
   "cell_type": "code",
   "execution_count": 10,
   "metadata": {},
   "outputs": [
    {
     "data": {
      "text/plain": [
       "<3x14 sparse matrix of type '<class 'numpy.int64'>'\n",
       "\twith 15 stored elements in Compressed Sparse Row format>"
      ]
     },
     "execution_count": 10,
     "metadata": {},
     "output_type": "execute_result"
    }
   ],
   "source": [
    "X"
   ]
  },
  {
   "cell_type": "code",
   "execution_count": 11,
   "metadata": {},
   "outputs": [
    {
     "name": "stdout",
     "output_type": "stream",
     "text": [
      "['am', 'can', 'difffernt', 'is', 'own', 'random', 'sentences', 'text', 'the', 'this', 'try', 'trying', 'you', 'your']\n"
     ]
    }
   ],
   "source": [
    " print(vectorizer.get_feature_names())"
   ]
  },
  {
   "cell_type": "code",
   "execution_count": 12,
   "metadata": {},
   "outputs": [
    {
     "name": "stdout",
     "output_type": "stream",
     "text": [
      "i\n",
      "1\n"
     ]
    }
   ],
   "source": [
    "i = bow.keys()\n",
    "j = vectorizer.get_feature_names()\n",
    "c=0\n",
    "for k in i:\n",
    "    if not k in j:\n",
    "        c+=1\n",
    "        print(k)\n",
    "print(c) #i is the only feature we dont have in sklearns implementation \n",
    "#we can use len(word)>1 for removing oneword words "
   ]
  },
  {
   "cell_type": "code",
   "execution_count": 13,
   "metadata": {},
   "outputs": [
    {
     "data": {
      "text/plain": [
       "array([[0, 0, 0, 1, 0, 1, 0, 1, 1, 1, 0, 0, 0, 0],\n",
       "       [1, 0, 1, 0, 0, 0, 1, 0, 0, 0, 0, 1, 0, 0],\n",
       "       [0, 1, 0, 0, 1, 0, 1, 0, 0, 0, 1, 0, 1, 1]], dtype=int64)"
      ]
     },
     "execution_count": 13,
     "metadata": {},
     "output_type": "execute_result"
    }
   ],
   "source": [
    "x = X.toarray()\n",
    "x"
   ]
  },
  {
   "cell_type": "code",
   "execution_count": 14,
   "metadata": {},
   "outputs": [
    {
     "data": {
      "text/html": [
       "<div>\n",
       "<style scoped>\n",
       "    .dataframe tbody tr th:only-of-type {\n",
       "        vertical-align: middle;\n",
       "    }\n",
       "\n",
       "    .dataframe tbody tr th {\n",
       "        vertical-align: top;\n",
       "    }\n",
       "\n",
       "    .dataframe thead th {\n",
       "        text-align: right;\n",
       "    }\n",
       "</style>\n",
       "<table border=\"1\" class=\"dataframe\">\n",
       "  <thead>\n",
       "    <tr style=\"text-align: right;\">\n",
       "      <th></th>\n",
       "      <th>am</th>\n",
       "      <th>can</th>\n",
       "      <th>difffernt</th>\n",
       "      <th>is</th>\n",
       "      <th>own</th>\n",
       "      <th>random</th>\n",
       "      <th>sentences</th>\n",
       "      <th>text</th>\n",
       "      <th>the</th>\n",
       "      <th>this</th>\n",
       "      <th>try</th>\n",
       "      <th>trying</th>\n",
       "      <th>you</th>\n",
       "      <th>your</th>\n",
       "    </tr>\n",
       "  </thead>\n",
       "  <tbody>\n",
       "    <tr>\n",
       "      <td>0</td>\n",
       "      <td>0</td>\n",
       "      <td>0</td>\n",
       "      <td>0</td>\n",
       "      <td>1</td>\n",
       "      <td>0</td>\n",
       "      <td>1</td>\n",
       "      <td>0</td>\n",
       "      <td>1</td>\n",
       "      <td>1</td>\n",
       "      <td>1</td>\n",
       "      <td>0</td>\n",
       "      <td>0</td>\n",
       "      <td>0</td>\n",
       "      <td>0</td>\n",
       "    </tr>\n",
       "    <tr>\n",
       "      <td>1</td>\n",
       "      <td>1</td>\n",
       "      <td>0</td>\n",
       "      <td>1</td>\n",
       "      <td>0</td>\n",
       "      <td>0</td>\n",
       "      <td>0</td>\n",
       "      <td>1</td>\n",
       "      <td>0</td>\n",
       "      <td>0</td>\n",
       "      <td>0</td>\n",
       "      <td>0</td>\n",
       "      <td>1</td>\n",
       "      <td>0</td>\n",
       "      <td>0</td>\n",
       "    </tr>\n",
       "    <tr>\n",
       "      <td>2</td>\n",
       "      <td>0</td>\n",
       "      <td>1</td>\n",
       "      <td>0</td>\n",
       "      <td>0</td>\n",
       "      <td>1</td>\n",
       "      <td>0</td>\n",
       "      <td>1</td>\n",
       "      <td>0</td>\n",
       "      <td>0</td>\n",
       "      <td>0</td>\n",
       "      <td>1</td>\n",
       "      <td>0</td>\n",
       "      <td>1</td>\n",
       "      <td>1</td>\n",
       "    </tr>\n",
       "  </tbody>\n",
       "</table>\n",
       "</div>"
      ],
      "text/plain": [
       "   am  can  difffernt  is  own  random  sentences  text  the  this  try  \\\n",
       "0   0    0          0   1    0       1          0     1    1     1    0   \n",
       "1   1    0          1   0    0       0          1     0    0     0    0   \n",
       "2   0    1          0   0    1       0          1     0    0     0    1   \n",
       "\n",
       "   trying  you  your  \n",
       "0       0    0     0  \n",
       "1       1    0     0  \n",
       "2       0    1     1  "
      ]
     },
     "execution_count": 14,
     "metadata": {},
     "output_type": "execute_result"
    }
   ],
   "source": [
    "df1=pd.DataFrame(x,columns=vectorizer.get_feature_names())  \n",
    "df1"
   ]
  },
  {
   "cell_type": "code",
   "execution_count": 15,
   "metadata": {},
   "outputs": [
    {
     "name": "stdout",
     "output_type": "stream",
     "text": [
      "the time for bow_sklearn in seconds : 2.5991694927215576\n"
     ]
    }
   ],
   "source": [
    "end2=time.time()\n",
    "print(\"the time for bow_sklearn in seconds :\" ,(end2-start2))"
   ]
  }
 ],
 "metadata": {
  "kernelspec": {
   "display_name": "Python 3",
   "language": "python",
   "name": "python3"
  },
  "language_info": {
   "codemirror_mode": {
    "name": "ipython",
    "version": 3
   },
   "file_extension": ".py",
   "mimetype": "text/x-python",
   "name": "python",
   "nbconvert_exporter": "python",
   "pygments_lexer": "ipython3",
   "version": "3.7.4"
  }
 },
 "nbformat": 4,
 "nbformat_minor": 2
}
