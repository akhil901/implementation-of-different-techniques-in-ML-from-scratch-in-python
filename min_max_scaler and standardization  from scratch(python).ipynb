{
 "cells": [
  {
   "cell_type": "code",
   "execution_count": 1,
   "metadata": {},
   "outputs": [],
   "source": [
    "import numpy as np\n"
   ]
  },
  {
   "cell_type": "markdown",
   "metadata": {},
   "source": [
    "# Custom implementation of min_max_scaler"
   ]
  },
  {
   "cell_type": "code",
   "execution_count": 21,
   "metadata": {},
   "outputs": [],
   "source": [
    "def min_max(x):\n",
    "    j=0\n",
    "    x_min = array.min() #taking min of the array\n",
    "    x_max = array.max() #taking max of the array\n",
    "    for ele in x: \n",
    "        x_new = (ele - x_min)/(x_max-x_min) # calculating normalized value for each element in array\n",
    "        x[j]=x_new #replacing each element with new calculated value \n",
    "        j+=1\n",
    "    return x\n",
    "\n",
    "    "
   ]
  },
  {
   "cell_type": "code",
   "execution_count": 22,
   "metadata": {},
   "outputs": [
    {
     "data": {
      "text/plain": [
       "array([[0.        ],\n",
       "       [0.01282051],\n",
       "       [0.02564103],\n",
       "       [0.03846154],\n",
       "       [0.84615385],\n",
       "       [0.08974359],\n",
       "       [0.03846154],\n",
       "       [0.01282051],\n",
       "       [0.01282051],\n",
       "       [0.70512821],\n",
       "       [1.        ],\n",
       "       [0.40320513],\n",
       "       [0.02564103]])"
      ]
     },
     "execution_count": 22,
     "metadata": {},
     "output_type": "execute_result"
    }
   ],
   "source": [
    "array = np.array([2,3,4,5,68,9,5,3,3,57,80,33.45,4]).reshape(-1,1)\n",
    "y = min_max(array)\n",
    "y"
   ]
  },
  {
   "cell_type": "markdown",
   "metadata": {},
   "source": [
    "# Sklearns implementation"
   ]
  },
  {
   "cell_type": "code",
   "execution_count": 19,
   "metadata": {},
   "outputs": [
    {
     "data": {
      "text/plain": [
       "array([[0.        ],\n",
       "       [0.01282051],\n",
       "       [0.02564103],\n",
       "       [0.03846154],\n",
       "       [0.84615385],\n",
       "       [0.08974359],\n",
       "       [0.03846154],\n",
       "       [0.01282051],\n",
       "       [0.01282051],\n",
       "       [0.70512821],\n",
       "       [1.        ],\n",
       "       [0.40320513],\n",
       "       [0.02564103]])"
      ]
     },
     "execution_count": 19,
     "metadata": {},
     "output_type": "execute_result"
    }
   ],
   "source": [
    "from sklearn.preprocessing import MinMaxScaler\n",
    "array = np.array([2,3,4,5,68,9,5,3,3,57,80,33.45,4]).reshape(-1,1)\n",
    "transformer = MinMaxScaler().fit(array)\n",
    "transformer.transform(array)"
   ]
  },
  {
   "cell_type": "markdown",
   "metadata": {},
   "source": [
    "# custom implementation in python"
   ]
  },
  {
   "cell_type": "code",
   "execution_count": 10,
   "metadata": {},
   "outputs": [],
   "source": [
    "import math\n",
    "def stanrdadize(x):\n",
    "    j=0\n",
    "    z=0\n",
    "    N=len(x)\n",
    "    mean = x.sum()/(N) #mean calculation\n",
    "    for ele in x:\n",
    "        z += (ele-mean)**2\n",
    "    std = np.sqrt(z/N) #standard deviation\n",
    "    for ele in x:   \n",
    "        x[j]= (ele-mean)/std #calculation of standardization value (xi-mean/std)\n",
    "        j+=1\n",
    "    return x"
   ]
  },
  {
   "cell_type": "code",
   "execution_count": 12,
   "metadata": {},
   "outputs": [
    {
     "data": {
      "text/plain": [
       "array([[-0.70502562],\n",
       "       [-0.66843016],\n",
       "       [-0.6318347 ],\n",
       "       [-0.59523924],\n",
       "       [ 1.71027477],\n",
       "       [-0.4488574 ],\n",
       "       [-0.59523924],\n",
       "       [-0.66843016],\n",
       "       [-0.66843016],\n",
       "       [ 1.30772471],\n",
       "       [ 2.1494203 ],\n",
       "       [ 0.44590161],\n",
       "       [-0.6318347 ]])"
      ]
     },
     "execution_count": 12,
     "metadata": {},
     "output_type": "execute_result"
    }
   ],
   "source": [
    "array = np.array([2,3,4,5,68,9,5,3,3,57,80,33.45,4]).reshape(-1,1)\n",
    "out = stanrdadize(array)\n",
    "out"
   ]
  },
  {
   "cell_type": "markdown",
   "metadata": {},
   "source": [
    "# Sklearn Implementation"
   ]
  },
  {
   "cell_type": "code",
   "execution_count": 7,
   "metadata": {},
   "outputs": [
    {
     "data": {
      "text/plain": [
       "array([[-0.70502562],\n",
       "       [-0.66843016],\n",
       "       [-0.6318347 ],\n",
       "       [-0.59523924],\n",
       "       [ 1.71027477],\n",
       "       [-0.4488574 ],\n",
       "       [-0.59523924],\n",
       "       [-0.66843016],\n",
       "       [-0.66843016],\n",
       "       [ 1.30772471],\n",
       "       [ 2.1494203 ],\n",
       "       [ 0.44590161],\n",
       "       [-0.6318347 ]])"
      ]
     },
     "execution_count": 7,
     "metadata": {},
     "output_type": "execute_result"
    }
   ],
   "source": [
    "from sklearn.preprocessing import StandardScaler\n",
    "scaler = StandardScaler()\n",
    "array = np.array([2,3,4,5,68,9,5,3,3,57,80,33.45,4]).reshape(-1,1)\n",
    "scaler.fit_transform(array)"
   ]
  }
 ],
 "metadata": {
  "kernelspec": {
   "display_name": "Python 3",
   "language": "python",
   "name": "python3"
  },
  "language_info": {
   "codemirror_mode": {
    "name": "ipython",
    "version": 3
   },
   "file_extension": ".py",
   "mimetype": "text/x-python",
   "name": "python",
   "nbconvert_exporter": "python",
   "pygments_lexer": "ipython3",
   "version": "3.7.4"
  }
 },
 "nbformat": 4,
 "nbformat_minor": 2
}
